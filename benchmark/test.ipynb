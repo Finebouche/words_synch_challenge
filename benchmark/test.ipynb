{
 "cells": [
  {
   "cell_type": "code",
   "execution_count": 4,
   "id": "initial_id",
   "metadata": {
    "execution": {
     "iopub.execute_input": "2024-09-09T18:52:09.579641Z",
     "iopub.status.busy": "2024-09-09T18:52:09.579180Z",
     "iopub.status.idle": "2024-09-09T18:52:10.056793Z",
     "shell.execute_reply": "2024-09-09T18:52:10.055294Z",
     "shell.execute_reply.started": "2024-09-09T18:52:09.579614Z"
    }
   },
   "outputs": [
    {
     "name": "stdout",
     "output_type": "stream",
     "text": [
      "Error with OpenAI API: Error code: 401 - {'error': {'message': 'Incorrect API key provided: your-api-key. You can find your API key at https://platform.openai.com/account/api-keys.', 'type': 'invalid_request_error', 'param': None, 'code': 'invalid_api_key'}}\n",
      "Error with OpenAI API: Error code: 401 - {'error': {'message': 'Incorrect API key provided: your-api-key. You can find your API key at https://platform.openai.com/account/api-keys.', 'type': 'invalid_request_error', 'param': None, 'code': 'invalid_api_key'}}\n"
     ]
    }
   ],
   "source": [
    "from importlib import reload\n",
    "import game_logic\n",
    "reload(game_logic)\n",
    "from game_logic import play_game, save_results_to_csv\n",
    "\n",
    "results = play_game()\n",
    "save_results_to_csv(results)"
   ]
  },
  {
   "cell_type": "code",
   "execution_count": null,
   "id": "4d159223-0fdd-4e86-b7c7-a36f922c2066",
   "metadata": {},
   "outputs": [],
   "source": []
  }
 ],
 "metadata": {
  "kernelspec": {
   "display_name": "words_env",
   "language": "python",
   "name": "words_env"
  },
  "language_info": {
   "codemirror_mode": {
    "name": "ipython",
    "version": 3
   },
   "file_extension": ".py",
   "mimetype": "text/x-python",
   "name": "python",
   "nbconvert_exporter": "python",
   "pygments_lexer": "ipython3",
   "version": "3.12.5"
  }
 },
 "nbformat": 4,
 "nbformat_minor": 5
}
