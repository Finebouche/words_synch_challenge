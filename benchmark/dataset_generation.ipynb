{
 "cells": [
  {
   "cell_type": "code",
   "execution_count": 10,
   "id": "initial_id",
   "metadata": {
    "execution": {
     "iopub.execute_input": "2024-09-09T19:09:13.054377Z",
     "iopub.status.busy": "2024-09-09T19:09:13.053653Z",
     "iopub.status.idle": "2024-09-09T19:09:13.546646Z",
     "shell.execute_reply": "2024-09-09T19:09:13.545637Z",
     "shell.execute_reply.started": "2024-09-09T19:09:13.054323Z"
    }
   },
   "outputs": [
    {
     "name": "stdout",
     "output_type": "stream",
     "text": [
      "Error with OpenAI API: Error code: 403 - {'error': {'message': 'You are not allowed to sample from this model', 'type': 'invalid_request_error', 'param': None, 'code': None}}\n",
      "Error with OpenAI API: Error code: 403 - {'error': {'message': 'You are not allowed to sample from this model', 'type': 'invalid_request_error', 'param': None, 'code': None}}\n"
     ]
    }
   ],
   "source": [
    "from importlib import reload\n",
    "import game_logic\n",
    "reload(game_logic)\n",
    "from game_logic import play_game, save_results_to_csv\n",
    "\n",
    "results = play_game()\n",
    "save_results_to_csv(results)"
   ]
  },
  {
   "cell_type": "code",
   "execution_count": null,
   "id": "4d159223-0fdd-4e86-b7c7-a36f922c2066",
   "metadata": {},
   "outputs": [],
   "source": []
  }
 ],
 "metadata": {
  "kernelspec": {
   "display_name": "words_env",
   "language": "python",
   "name": "words_env"
  },
  "language_info": {
   "codemirror_mode": {
    "name": "ipython",
    "version": 3
   },
   "file_extension": ".py",
   "mimetype": "text/x-python",
   "name": "python",
   "nbconvert_exporter": "python",
   "pygments_lexer": "ipython3",
   "version": "3.12.5"
  }
 },
 "nbformat": 4,
 "nbformat_minor": 5
}
